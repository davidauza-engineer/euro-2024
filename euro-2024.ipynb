{
 "cells": [
  {
   "cell_type": "markdown",
   "id": "be6260195d4fbfb4",
   "metadata": {},
   "source": [
    "Basic setup using Python"
   ]
  },
  {
   "cell_type": "code",
   "id": "initial_id",
   "metadata": {},
   "source": [
    "import csv\n",
    "import matplotlib.pyplot as plt\n",
    "import numpy as np\n",
    "import matplotlib\n",
    "\n",
    "matplotlib.use('TkAgg')\n",
    "\n",
    "CSV_PATH = '2024.csv'"
   ],
   "outputs": [],
   "execution_count": null
  },
  {
   "cell_type": "markdown",
   "id": "6a27028bb13319b6",
   "metadata": {},
   "source": [
    "General functions necessary for the following analysis"
   ]
  },
  {
   "cell_type": "code",
   "id": "f52dd730af54ac8d",
   "metadata": {},
   "source": [
    "def load_csv(csv_path):\n",
    "    \"\"\"Load a CSV file and return two lists: events and players\"\"\"\n",
    "    events = []\n",
    "    players = []\n",
    "    \n",
    "    with open(csv_path, encoding='latin-1') as csv_f:\n",
    "        fixed_data = csv_f.read().replace('nan', 'None') # Preprocess data from csv-file\n",
    "        reader = csv.reader(fixed_data.splitlines())\n",
    "        \n",
    "        headers = next(reader) # Skip the header\n",
    "        for row in reader:\n",
    "            events += eval(row[-1])\n",
    "            players += eval(row[-4]) # Add teams from \"home\" games\n",
    "            players += eval(row[-5]) # Add teams from \"away\" games\n",
    "            \n",
    "    # So far, the \"players\" list contains multiple copies of the same players from different games;\n",
    "    # Fix it by putting the players into a dictionary by ID, thus overwriting duplicates\n",
    "    players_dict = {i['id_player']: i for i in players}\n",
    "    players = players_dict.values()\n",
    "    \n",
    "    # We're only interested in events related to a person (e.g. \"goal\", \"card\"). Remove the rest\n",
    "    events = [i for i in events if i['primary_id_person'] is not None]\n",
    "    \n",
    "    return events, players\n",
    "\n",
    "def find_player_by_id(players, player_id):\n",
    "    \"\"\"Return the player corresponding to the specified player ID\"\"\"\n",
    "    return [i for i  in players if i['id_player'] == player_id][0]\n",
    "\n",
    "def filter_events_by_type(all_events, event_type):\n",
    "    \"\"\"Return a list of events with only a given type (e.g. 'Goal')\"\"\"\n",
    "    return [i for i in all_events if i['type'] == event_type]"
   ],
   "outputs": [],
   "execution_count": null
  },
  {
   "metadata": {},
   "cell_type": "markdown",
   "source": "Now let's run the function def load_csv(csv_path) to load data from the file:",
   "id": "9384a2801de63d80"
  },
  {
   "cell_type": "code",
   "id": "b5b9dc65bbd0307c",
   "metadata": {},
   "source": [
    "events, players = load_csv(CSV_PATH)"
   ],
   "outputs": [],
   "execution_count": null
  },
  {
   "cell_type": "markdown",
   "id": "897a54f344bbbfcf",
   "metadata": {},
   "source": [
    "Counting goals by body part"
   ]
  },
  {
   "cell_type": "code",
   "id": "31f8c209e85693c4",
   "metadata": {},
   "source": [
    "def count_goals_by_body_part(goal_events):\n",
    "    \"\"\"Take goal events and count the number of goals per body part; return as a dict\"\"\"\n",
    "    result = {}\n",
    "    for event in goal_events:\n",
    "        body_part = event.get('body_part')\n",
    "        if body_part:\n",
    "            result[body_part] = result.get(body_part, 0) + 1\n",
    "    return result\n"
   ],
   "outputs": [],
   "execution_count": null
  },
  {
   "cell_type": "markdown",
   "id": "1891c22e3585068b",
   "metadata": {},
   "source": [
    "Function for displaying the pie chart"
   ]
  },
  {
   "cell_type": "code",
   "id": "8495a89b988dd694",
   "metadata": {},
   "source": [
    "def show_body_part_pie_chart(body_parts_count):\n",
    "    \"\"\"Plot and show a pie chart of goals by body part\"\"\"\n",
    "    colors = ['#AE1DF4', '#01E08F', '#7463FF', '#111111']\n",
    "    \n",
    "    plt.pie(\n",
    "        body_parts_count.values(),\n",
    "        labels=body_parts_count.keys(),\n",
    "        autopct='%1.1f%%',\n",
    "        textprops={'color': '#333333'},\n",
    "        colors=colors[:len(body_parts_count)] # Adjust colors list length\n",
    "    )\n",
    "    plt.title('Goals per body part')\n",
    "    plt.show()"
   ],
   "outputs": [],
   "execution_count": null
  },
  {
   "cell_type": "markdown",
   "id": "cf608a65b51dc98b",
   "metadata": {},
   "source": [
    "Running the functions"
   ]
  },
  {
   "cell_type": "code",
   "id": "773752579f90a904",
   "metadata": {},
   "source": [
    "plt.figure(figsize=(6, 6), dpi=130)\n",
    "goal_events = filter_events_by_type(events, 'GOAL')\n",
    "body_parts_count = count_goals_by_body_part(goal_events)\n",
    "show_body_part_pie_chart(body_parts_count)"
   ],
   "outputs": [],
   "execution_count": null
  },
  {
   "cell_type": "markdown",
   "id": "29b4d440817ae248",
   "metadata": {},
   "source": [
    "You should see a pie chart after the execution of the code above ^\n",
    "\n",
    "![Goals per body part](assets/Figure_1.png)"
   ]
  },
  {
   "metadata": {},
   "cell_type": "markdown",
   "source": "---",
   "id": "e9f12cc0eb2ca00e"
  },
  {
   "metadata": {},
   "cell_type": "markdown",
   "source": [
    "Next, we looked at goals scored by players based on their jersey numbers. Do players with certain \n",
    "numbers tend to score more goals? Let's find out."
   ],
   "id": "875e2a0023ea3c4a"
  },
  {
   "metadata": {},
   "cell_type": "markdown",
   "source": "Preparing the functions",
   "id": "c2ab12eccdb138c4"
  },
  {
   "metadata": {},
   "cell_type": "code",
   "source": [
    "def get_jerseys_numbers_by_event(events, players, event_type):\n",
    "    \"\"\"Return a simple list of jersey numbers corresponding to events of specified event_type\"\"\"\n",
    "    \n",
    "    selected_events = filter_events_by_type(events, event_type)\n",
    "    \n",
    "    # Helper function to find a player by ID and return his number\n",
    "    def jersey_num_by_id(player_id):\n",
    "        return find_player_by_id(players, player_id)['jersey_namber']\n",
    "    \n",
    "    return [jersey_num_by_id(i['primary_id_person']) for i in selected_events]\n",
    "\n",
    "def plot_jerseys_numbers_histogram(jerseys_list, data_label, data_color):\n",
    "    \"\"\"Plot the jersey histogram based on 'jerseys_list' data\"\"\"\n",
    "    MAX_JERSEY_NUMBER = 26\n",
    "    _, bins, _ = plt.hist(\n",
    "        jerseys_list,\n",
    "        bins=np.arange(MAX_JERSEY_NUMBER + 2) - 0.5,\n",
    "        label=data_label,\n",
    "        edgecolor='black',\n",
    "        color=data_color,\n",
    "        alpha=0.5\n",
    "    )\n",
    "    plt.xticks(0.5 * (bins[1:-1] + bins[2:])) # Make sure all numbers are labeled on x-axis\n",
    "    plt.legend()"
   ],
   "id": "4fb3be1efdc48bc8",
   "outputs": [],
   "execution_count": null
  },
  {
   "metadata": {},
   "cell_type": "markdown",
   "source": "Running the functions and displaying the histogram",
   "id": "e83182dbf4659046"
  },
  {
   "metadata": {},
   "cell_type": "code",
   "source": [
    "goals_jerseys = get_jerseys_numbers_by_event(events, players, 'GOAL')\n",
    "cards_jerseys = get_jerseys_numbers_by_event(events, players, 'YELLOW_CARD')\n",
    "\n",
    "plt.subplot(2, 1, 1) # Top plot\n",
    "plt.title('Events by jersey number')\n",
    "plot_jerseys_numbers_histogram(goals_jerseys, 'Goals', 'lightgreen')\n",
    "\n",
    "plt.subplot(2, 1, 2) # Bottom plot\n",
    "plt.xlabel('Jersey number')\n",
    "plot_jerseys_numbers_histogram(cards_jerseys, 'Yellow cards', 'yellow')\n",
    "\n",
    "plt.show()"
   ],
   "id": "6b9794e2ae51ff52",
   "outputs": [],
   "execution_count": null
  },
  {
   "metadata": {},
   "cell_type": "markdown",
   "source": "![Events by jersey number](assets/Figure_2.png)",
   "id": "a239346a8d8a5339"
  }
 ],
 "metadata": {
  "kernelspec": {
   "display_name": "Python 3 (ipykernel)",
   "language": "python",
   "name": "python3"
  },
  "language_info": {
   "codemirror_mode": {
    "name": "ipython",
    "version": 3
   },
   "file_extension": ".py",
   "mimetype": "text/x-python",
   "name": "python",
   "nbconvert_exporter": "python",
   "pygments_lexer": "ipython3",
   "version": "3.8.19"
  }
 },
 "nbformat": 4,
 "nbformat_minor": 5
}
