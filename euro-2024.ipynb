{
 "cells": [
  {
   "cell_type": "code",
   "id": "initial_id",
   "metadata": {
    "collapsed": true,
    "ExecuteTime": {
     "end_time": "2024-09-16T10:07:50.163821Z",
     "start_time": "2024-09-16T10:07:49.320471Z"
    }
   },
   "source": [
    "import csv\n",
    "import matplotlib.pyplot as plt\n",
    "import numpy as np\n",
    "import matplotlib\n",
    "matplotlib.use('TkAgg')\n",
    "\n",
    "CSV_PATH = '2024.csv'\n",
    "\n",
    "def load_csv(csv_path):\n",
    "    \"\"\"Load a CSV file and return two lists: events and players\"\"\"\n",
    "    events = []\n",
    "    players = []\n",
    "    \n",
    "    with open(csv_path, encoding='latin-1') as csv_f:\n",
    "        fixed_data = csv_f.read().replace('nan', 'None') # Preprocess data from csv-file\n",
    "        reader = csv.reader(fixed_data.splitlines())\n",
    "        \n",
    "        headers = next(reader) # Skip the header\n",
    "        for row in reader:\n",
    "            events += eval(row[-1])\n",
    "            players += eval(row[-4]) # Add teams from \"home\" games\n",
    "            players += eval(row[-5]) # Add teams from \"away\" games\n",
    "            \n",
    "    # So far, the \"players\" list contains multiple copies of the same players from different games;\n",
    "    # Fix it by putting the players into a dictionary by ID, thus overwriting duplicates\n",
    "    players_dict = {i['id_player']: i for i in players}\n",
    "    players = players_dict.values()\n",
    "    \n",
    "    # We're only interested in events related to a person (e.g. \"goal\", \"card\"). Remove the rest\n",
    "    events = [i for i in events if i['primary_id_person'] is not None]\n",
    "    \n",
    "    return events, players\n",
    "\n",
    "def find_player_by_id(players, player_id):\n",
    "    \"\"\"Return the player corresponding to the specified player ID\"\"\"\n",
    "    return [i for i  in players if i['id_player'] == player_id][0]\n",
    "\n",
    "def filter_events_by_type(all_events, event_type):\n",
    "    \"\"\"Return a list of events with only a given type (e.g. 'Goal')\"\"\"\n",
    "    return [i for i in all_events if i['type'] == event_type]\n",
    "\n",
    "events, players = load_csv(CSV_PATH)\n"
   ],
   "outputs": [],
   "execution_count": 1
  },
  {
   "metadata": {},
   "cell_type": "code",
   "outputs": [],
   "execution_count": null,
   "source": "",
   "id": "e464361df4200f97"
  }
 ],
 "metadata": {
  "kernelspec": {
   "display_name": "Python 3",
   "language": "python",
   "name": "python3"
  },
  "language_info": {
   "codemirror_mode": {
    "name": "ipython",
    "version": 2
   },
   "file_extension": ".py",
   "mimetype": "text/x-python",
   "name": "python",
   "nbconvert_exporter": "python",
   "pygments_lexer": "ipython2",
   "version": "2.7.6"
  }
 },
 "nbformat": 4,
 "nbformat_minor": 5
}
