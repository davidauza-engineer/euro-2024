{
 "cells": [
  {
   "metadata": {},
   "cell_type": "markdown",
   "source": "Basic setup using Python",
   "id": "be6260195d4fbfb4"
  },
  {
   "cell_type": "code",
   "id": "initial_id",
   "metadata": {
    "collapsed": true,
    "jupyter": {
     "is_executing": true
    },
    "ExecuteTime": {
     "end_time": "2024-09-17T08:32:50.537001Z",
     "start_time": "2024-09-17T08:30:32.497655Z"
    }
   },
   "source": [
    "import csv\n",
    "import matplotlib.pyplot as plt\n",
    "import numpy as np\n",
    "import matplotlib\n",
    "\n",
    "matplotlib.use('TkAgg')\n",
    "\n",
    "CSV_PATH = '2024.csv'"
   ],
   "outputs": [],
   "execution_count": null
  },
  {
   "metadata": {},
   "cell_type": "markdown",
   "source": "General functions necessary for the following analysis",
   "id": "6a27028bb13319b6"
  },
  {
   "metadata": {},
   "cell_type": "code",
   "outputs": [],
   "execution_count": null,
   "source": [
    "\n",
    "def load_csv(csv_path):\n",
    "    \"\"\"Load a CSV file and return two lists: events and players\"\"\"\n",
    "    events = []\n",
    "    players = []\n",
    "    \n",
    "    with open(csv_path, encoding='latin-1') as csv_f:\n",
    "        fixed_data = csv_f.read().replace('nan', 'None') # Preprocess data from csv-file\n",
    "        reader = csv.reader(fixed_data.splitlines())\n",
    "        \n",
    "        headers = next(reader) # Skip the header\n",
    "        for row in reader:\n",
    "            events += eval(row[-1])\n",
    "            players += eval(row[-4]) # Add teams from \"home\" games\n",
    "            players += eval(row[-5]) # Add teams from \"away\" games\n",
    "            \n",
    "    # So far, the \"players\" list contains multiple copies of the same players from different games;\n",
    "    # Fix it by putting the players into a dictionary by ID, thus overwriting duplicates\n",
    "    players_dict = {i['id_player']: i for i in players}\n",
    "    players = players_dict.values()\n",
    "    \n",
    "    # We're only interested in events related to a person (e.g. \"goal\", \"card\"). Remove the rest\n",
    "    events = [i for i in events if i['primary_id_person'] is not None]\n",
    "    \n",
    "    return events, players\n",
    "\n",
    "def find_player_by_id(players, player_id):\n",
    "    \"\"\"Return the player corresponding to the specified player ID\"\"\"\n",
    "    return [i for i  in players if i['id_player'] == player_id][0]\n",
    "\n",
    "def filter_events_by_type(all_events, event_type):\n",
    "    \"\"\"Return a list of events with only a given type (e.g. 'Goal')\"\"\"\n",
    "    return [i for i in all_events if i['type'] == event_type]"
   ],
   "id": "f52dd730af54ac8d"
  },
  {
   "metadata": {},
   "cell_type": "raw",
   "source": "Now let's run the function def load_csv(csv_path) to load data from the file:",
   "id": "6a04f5c589c6d0c0"
  },
  {
   "metadata": {},
   "cell_type": "code",
   "outputs": [],
   "execution_count": null,
   "source": "events, players = load_csv(CSV_PATH)",
   "id": "b5b9dc65bbd0307c"
  },
  {
   "metadata": {},
   "cell_type": "markdown",
   "source": "Counting goals by body part",
   "id": "897a54f344bbbfcf"
  },
  {
   "metadata": {},
   "cell_type": "code",
   "outputs": [],
   "execution_count": null,
   "source": [
    "def count_goals_by_body_part(goal_events):\n",
    "    \"\"\"Take goal events and count the number of goals per body part; return as a dict\"\"\"\n",
    "    result = {}\n",
    "    for event in goal_events:\n",
    "        body_part = event.get('body_part')\n",
    "        if body_part:\n",
    "            result[body_part] = result.get(body_part, 0) + 1\n",
    "    return result\n"
   ],
   "id": "31f8c209e85693c4"
  },
  {
   "metadata": {},
   "cell_type": "markdown",
   "source": "Function for displaying the pie chart",
   "id": "1891c22e3585068b"
  },
  {
   "metadata": {},
   "cell_type": "code",
   "outputs": [],
   "execution_count": null,
   "source": [
    "def show_body_part_pie_chart(body_parts_count):\n",
    "    \"\"\"Plot and show a pie chart of goals by body part\"\"\"\n",
    "    colors = ['#AE1DF4', '#01E08F', '#7463FF', '#111111']\n",
    "    \n",
    "    plt.pie(\n",
    "        body_parts_count.values(),\n",
    "        labels=body_parts_count.keys(),\n",
    "        autopct='%1.1f%%',\n",
    "        textprops={'color': '#333333'},\n",
    "        colors=colors[:len(body_parts_count)] # Adjust colors list length\n",
    "    )\n",
    "    plt.title('Goals per body part')\n",
    "    plt.show()"
   ],
   "id": "8495a89b988dd694"
  },
  {
   "metadata": {},
   "cell_type": "markdown",
   "source": "Running the functions",
   "id": "cf608a65b51dc98b"
  },
  {
   "metadata": {},
   "cell_type": "code",
   "outputs": [],
   "execution_count": null,
   "source": [
    "plt.figure(figsize=(6, 6), dpi=130)\n",
    "goal_events = filter_events_by_type(events, 'GOAL')\n",
    "body_parts_count = count_goals_by_body_part(goal_events)\n",
    "show_body_part_pie_chart(body_parts_count)"
   ],
   "id": "773752579f90a904"
  },
  {
   "metadata": {},
   "cell_type": "markdown",
   "source": "You should see a pie chart after the execution of the code above ^",
   "id": "29b4d440817ae248"
  }
 ],
 "metadata": {
  "kernelspec": {
   "display_name": "Python 3",
   "language": "python",
   "name": "python3"
  },
  "language_info": {
   "codemirror_mode": {
    "name": "ipython",
    "version": 2
   },
   "file_extension": ".py",
   "mimetype": "text/x-python",
   "name": "python",
   "nbconvert_exporter": "python",
   "pygments_lexer": "ipython2",
   "version": "2.7.6"
  }
 },
 "nbformat": 4,
 "nbformat_minor": 5
}
